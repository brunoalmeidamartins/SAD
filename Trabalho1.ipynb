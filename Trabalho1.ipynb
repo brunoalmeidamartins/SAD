{
 "cells": [
  {
   "cell_type": "markdown",
   "metadata": {},
   "source": [
    "<h1>Trabalho 1 de SAD</h1>"
   ]
  },
  {
   "cell_type": "code",
   "execution_count": null,
   "metadata": {},
   "outputs": [],
   "source": [
    "import pandas as pd\n",
    "import numpy as np\n",
    "import os\n",
    "import seaborn as sns\n",
    "import matplotlib.pyplot as plt\n",
    "\n",
    "path_banco = os.getenv(\"HOME\") + '/Bancos_Dados/UFJF/Periodo_2019_1/SAD/'"
   ]
  },
  {
   "cell_type": "code",
   "execution_count": null,
   "metadata": {},
   "outputs": [],
   "source": [
    "#Bases\n",
    "\n",
    "#base_Country = pd.read_csv(path_banco + 'Country.csv')\n",
    "#base_League = pd.read_csv(path_banco + 'League.csv')\n",
    "base_Match = pd.read_csv(path_banco + 'Match.csv',low_memory = False)\n",
    "#base_Player = pd.read_csv(path_banco + 'Player.csv')\n",
    "#base_Player_Attributes = pd.read_csv(path_banco + 'Player_Attributes.csv')\n",
    "#base_Team= pd.read_csv(path_banco + 'Team.csv')\n",
    "#base_Team_Attributes= pd.read_csv(path_banco + 'Team_Attributes.csv')\n",
    "#base_sqlite_sequence= pd.read_csv(path_banco + 'sqlite_sequence.csv')\n"
   ]
  },
  {
   "cell_type": "code",
   "execution_count": null,
   "metadata": {},
   "outputs": [],
   "source": [
    "base = base_Match.loc[:,['home_team_goal','away_team_goal','possession']]\n",
    "\n",
    "base1 = base_Match.loc[:,['possession']]"
   ]
  }
 ],
 "metadata": {
  "kernelspec": {
   "display_name": "Python 3",
   "language": "python",
   "name": "python3"
  },
  "language_info": {
   "codemirror_mode": {
    "name": "ipython",
    "version": 3
   },
   "file_extension": ".py",
   "mimetype": "text/x-python",
   "name": "python",
   "nbconvert_exporter": "python",
   "pygments_lexer": "ipython3",
   "version": "3.7.2"
  }
 },
 "nbformat": 4,
 "nbformat_minor": 2
}
